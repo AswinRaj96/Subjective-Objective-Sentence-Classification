{
  "cells": [
    {
      "cell_type": "code",
      "source": [
        "pip install gradio"
      ],
      "metadata": {
        "id": "mFEJTo0AB9qe",
        "colab": {
          "base_uri": "https://localhost:8080/"
        },
        "outputId": "53b35a8c-fed7-494f-c180-5bb494c9a3fd"
      },
      "execution_count": 106,
      "outputs": [
        {
          "output_type": "stream",
          "name": "stdout",
          "text": [
            "Looking in indexes: https://pypi.org/simple, https://us-python.pkg.dev/colab-wheels/public/simple/\n",
            "Requirement already satisfied: gradio in /usr/local/lib/python3.7/dist-packages (3.4.1)\n",
            "Requirement already satisfied: aiohttp in /usr/local/lib/python3.7/dist-packages (from gradio) (3.8.3)\n",
            "Requirement already satisfied: pandas in /usr/local/lib/python3.7/dist-packages (from gradio) (1.3.5)\n",
            "Requirement already satisfied: pycryptodome in /usr/local/lib/python3.7/dist-packages (from gradio) (3.15.0)\n",
            "Requirement already satisfied: orjson in /usr/local/lib/python3.7/dist-packages (from gradio) (3.8.0)\n",
            "Requirement already satisfied: markdown-it-py[linkify,plugins] in /usr/local/lib/python3.7/dist-packages (from gradio) (2.1.0)\n",
            "Requirement already satisfied: matplotlib in /usr/local/lib/python3.7/dist-packages (from gradio) (3.2.2)\n",
            "Requirement already satisfied: fsspec in /usr/local/lib/python3.7/dist-packages (from gradio) (2022.8.2)\n",
            "Requirement already satisfied: requests in /usr/local/lib/python3.7/dist-packages (from gradio) (2.23.0)\n",
            "Requirement already satisfied: httpx in /usr/local/lib/python3.7/dist-packages (from gradio) (0.23.0)\n",
            "Requirement already satisfied: pydantic in /usr/local/lib/python3.7/dist-packages (from gradio) (1.9.2)\n",
            "Requirement already satisfied: pillow in /usr/local/lib/python3.7/dist-packages (from gradio) (7.1.2)\n",
            "Requirement already satisfied: ffmpy in /usr/local/lib/python3.7/dist-packages (from gradio) (0.3.0)\n",
            "Requirement already satisfied: numpy in /usr/local/lib/python3.7/dist-packages (from gradio) (1.21.6)\n",
            "Requirement already satisfied: pyyaml in /usr/local/lib/python3.7/dist-packages (from gradio) (6.0)\n",
            "Requirement already satisfied: python-multipart in /usr/local/lib/python3.7/dist-packages (from gradio) (0.0.5)\n",
            "Requirement already satisfied: h11<0.13,>=0.11 in /usr/local/lib/python3.7/dist-packages (from gradio) (0.12.0)\n",
            "Requirement already satisfied: uvicorn in /usr/local/lib/python3.7/dist-packages (from gradio) (0.18.3)\n",
            "Requirement already satisfied: jinja2 in /usr/local/lib/python3.7/dist-packages (from gradio) (2.11.3)\n",
            "Requirement already satisfied: pydub in /usr/local/lib/python3.7/dist-packages (from gradio) (0.25.1)\n",
            "Requirement already satisfied: fastapi in /usr/local/lib/python3.7/dist-packages (from gradio) (0.85.0)\n",
            "Requirement already satisfied: websockets in /usr/local/lib/python3.7/dist-packages (from gradio) (10.3)\n",
            "Requirement already satisfied: paramiko in /usr/local/lib/python3.7/dist-packages (from gradio) (2.11.0)\n",
            "Requirement already satisfied: typing-extensions>=3.7.4 in /usr/local/lib/python3.7/dist-packages (from aiohttp->gradio) (4.1.1)\n",
            "Requirement already satisfied: async-timeout<5.0,>=4.0.0a3 in /usr/local/lib/python3.7/dist-packages (from aiohttp->gradio) (4.0.2)\n",
            "Requirement already satisfied: multidict<7.0,>=4.5 in /usr/local/lib/python3.7/dist-packages (from aiohttp->gradio) (6.0.2)\n",
            "Requirement already satisfied: aiosignal>=1.1.2 in /usr/local/lib/python3.7/dist-packages (from aiohttp->gradio) (1.2.0)\n",
            "Requirement already satisfied: yarl<2.0,>=1.0 in /usr/local/lib/python3.7/dist-packages (from aiohttp->gradio) (1.8.1)\n",
            "Requirement already satisfied: attrs>=17.3.0 in /usr/local/lib/python3.7/dist-packages (from aiohttp->gradio) (22.1.0)\n",
            "Requirement already satisfied: charset-normalizer<3.0,>=2.0 in /usr/local/lib/python3.7/dist-packages (from aiohttp->gradio) (2.1.1)\n",
            "Requirement already satisfied: asynctest==0.13.0 in /usr/local/lib/python3.7/dist-packages (from aiohttp->gradio) (0.13.0)\n",
            "Requirement already satisfied: frozenlist>=1.1.1 in /usr/local/lib/python3.7/dist-packages (from aiohttp->gradio) (1.3.1)\n",
            "Requirement already satisfied: idna>=2.0 in /usr/local/lib/python3.7/dist-packages (from yarl<2.0,>=1.0->aiohttp->gradio) (2.10)\n",
            "Requirement already satisfied: starlette==0.20.4 in /usr/local/lib/python3.7/dist-packages (from fastapi->gradio) (0.20.4)\n",
            "Requirement already satisfied: anyio<5,>=3.4.0 in /usr/local/lib/python3.7/dist-packages (from starlette==0.20.4->fastapi->gradio) (3.6.1)\n",
            "Requirement already satisfied: sniffio>=1.1 in /usr/local/lib/python3.7/dist-packages (from anyio<5,>=3.4.0->starlette==0.20.4->fastapi->gradio) (1.3.0)\n",
            "Requirement already satisfied: httpcore<0.16.0,>=0.15.0 in /usr/local/lib/python3.7/dist-packages (from httpx->gradio) (0.15.0)\n",
            "Requirement already satisfied: certifi in /usr/local/lib/python3.7/dist-packages (from httpx->gradio) (2022.9.24)\n",
            "Requirement already satisfied: rfc3986[idna2008]<2,>=1.3 in /usr/local/lib/python3.7/dist-packages (from httpx->gradio) (1.5.0)\n",
            "Requirement already satisfied: MarkupSafe>=0.23 in /usr/local/lib/python3.7/dist-packages (from jinja2->gradio) (2.0.1)\n",
            "Requirement already satisfied: mdurl~=0.1 in /usr/local/lib/python3.7/dist-packages (from markdown-it-py[linkify,plugins]->gradio) (0.1.2)\n",
            "Requirement already satisfied: mdit-py-plugins in /usr/local/lib/python3.7/dist-packages (from markdown-it-py[linkify,plugins]->gradio) (0.3.1)\n",
            "Requirement already satisfied: linkify-it-py~=1.0 in /usr/local/lib/python3.7/dist-packages (from markdown-it-py[linkify,plugins]->gradio) (1.0.3)\n",
            "Requirement already satisfied: uc-micro-py in /usr/local/lib/python3.7/dist-packages (from linkify-it-py~=1.0->markdown-it-py[linkify,plugins]->gradio) (1.0.1)\n",
            "Requirement already satisfied: cycler>=0.10 in /usr/local/lib/python3.7/dist-packages (from matplotlib->gradio) (0.11.0)\n",
            "Requirement already satisfied: kiwisolver>=1.0.1 in /usr/local/lib/python3.7/dist-packages (from matplotlib->gradio) (1.4.4)\n",
            "Requirement already satisfied: pyparsing!=2.0.4,!=2.1.2,!=2.1.6,>=2.0.1 in /usr/local/lib/python3.7/dist-packages (from matplotlib->gradio) (3.0.9)\n",
            "Requirement already satisfied: python-dateutil>=2.1 in /usr/local/lib/python3.7/dist-packages (from matplotlib->gradio) (2.8.2)\n",
            "Requirement already satisfied: six>=1.5 in /usr/local/lib/python3.7/dist-packages (from python-dateutil>=2.1->matplotlib->gradio) (1.15.0)\n",
            "Requirement already satisfied: pytz>=2017.3 in /usr/local/lib/python3.7/dist-packages (from pandas->gradio) (2022.4)\n",
            "Requirement already satisfied: bcrypt>=3.1.3 in /usr/local/lib/python3.7/dist-packages (from paramiko->gradio) (4.0.1)\n",
            "Requirement already satisfied: cryptography>=2.5 in /usr/local/lib/python3.7/dist-packages (from paramiko->gradio) (38.0.1)\n",
            "Requirement already satisfied: pynacl>=1.0.1 in /usr/local/lib/python3.7/dist-packages (from paramiko->gradio) (1.5.0)\n",
            "Requirement already satisfied: cffi>=1.12 in /usr/local/lib/python3.7/dist-packages (from cryptography>=2.5->paramiko->gradio) (1.15.1)\n",
            "Requirement already satisfied: pycparser in /usr/local/lib/python3.7/dist-packages (from cffi>=1.12->cryptography>=2.5->paramiko->gradio) (2.21)\n",
            "Requirement already satisfied: chardet<4,>=3.0.2 in /usr/local/lib/python3.7/dist-packages (from requests->gradio) (3.0.4)\n",
            "Requirement already satisfied: urllib3!=1.25.0,!=1.25.1,<1.26,>=1.21.1 in /usr/local/lib/python3.7/dist-packages (from requests->gradio) (1.24.3)\n",
            "Requirement already satisfied: click>=7.0 in /usr/local/lib/python3.7/dist-packages (from uvicorn->gradio) (7.1.2)\n"
          ]
        }
      ]
    },
    {
      "cell_type": "code",
      "execution_count": 107,
      "metadata": {
        "id": "UvbiSMlzeEiS"
      },
      "outputs": [],
      "source": [
        "import torch\n",
        "import torchtext\n",
        "import gradio as gr"
      ]
    },
    {
      "cell_type": "code",
      "source": [
        "glove = torchtext.vocab.GloVe(name=\"6B\", dim=100)"
      ],
      "metadata": {
        "id": "mw8JKiVXKViY"
      },
      "execution_count": 108,
      "outputs": []
    },
    {
      "cell_type": "code",
      "execution_count": 109,
      "metadata": {
        "id": "qqZHBHmW_jJQ"
      },
      "outputs": [],
      "source": [
        "class cnn(torch.nn.Module):\n",
        "      def __init__(self, vocab, emdedding_size):\n",
        "        super(cnn,self).__init__()\n",
        "        self.embedding = torch.nn.Embedding.from_pretrained(vocab.vectors)\n",
        "        self.cnn_layer1 = torch.nn.Conv2d(1,20,(2,100),1,bias=False)\n",
        "        self.cnn_layer2 = torch.nn.Conv2d(1,20,(4,100),1,bias=False)\n",
        "        self.activation = torch.nn.ReLU()\n",
        "        self.sigmoid = torch.nn.Sigmoid()\n",
        "        self.linear = torch.nn.Linear(40,1)\n",
        "        \n",
        "      def forward(self, x):\n",
        "        length = len(x)\n",
        "        embedded_result = self.embedding(x)\n",
        "        embedded_result = embedded_result.permute(1,0,2)\n",
        "        embedded_result = embedded_result.unsqueeze(1)\n",
        "        cnn_layer1_result = self.cnn_layer1(embedded_result)\n",
        "        cnn_layer2_result = self.cnn_layer2(embedded_result)\n",
        "        layer1_activation = self.activation(cnn_layer1_result)\n",
        "        layer2_activation = self.activation(cnn_layer2_result)\n",
        "        layer1_activation = layer1_activation.squeeze()\n",
        "        layer2_activation = layer2_activation.squeeze()\n",
        "        max_pool_layer1_result = torch.nn.functional.max_pool1d(layer1_activation,int(length-1))\n",
        "        max_pool_layer2_result = torch.nn.functional.max_pool1d(layer2_activation,int(length-3))\n",
        "        max_pool_layer1_result = max_pool_layer1_result.squeeze()\n",
        "        max_pool_layer2_result = max_pool_layer2_result.squeeze()        \n",
        "        concatenated_result = torch.cat((max_pool_layer1_result,max_pool_layer2_result))\n",
        "        prediction = self.linear(concatenated_result)\n",
        "        prediction = self.sigmoid(prediction)\n",
        "        return prediction"
      ]
    },
    {
      "cell_type": "code",
      "execution_count": 110,
      "metadata": {
        "id": "RfbVVFcBA1yo"
      },
      "outputs": [],
      "source": [
        "class baselineModel(torch.nn.Module):\n",
        "      def __init__(self, vocab, emdedding_size):\n",
        "        super(baselineModel,self).__init__()\n",
        "        self.embedding = torch.nn.Embedding.from_pretrained(vocab.vectors)\n",
        "        self.linear = torch.nn.Linear(emdedding_size,1)\n",
        "        self.sigmoid = torch.nn.Sigmoid()\n",
        "      def forward(self, x):\n",
        "        embedded_result = self.embedding(x)\n",
        "        average_result = torch.mean(embedded_result,0)\n",
        "        prediction = self.linear(average_result)\n",
        "        prediction = self.sigmoid(prediction)\n",
        "        return prediction\n"
      ]
    },
    {
      "cell_type": "code",
      "execution_count": 111,
      "metadata": {
        "id": "lQFTwdQl3Y1K",
        "colab": {
          "base_uri": "https://localhost:8080/",
          "height": 660
        },
        "outputId": "de17796e-f8f8-4fbc-ff0b-5e3374c40882"
      },
      "outputs": [
        {
          "output_type": "stream",
          "name": "stdout",
          "text": [
            "Colab notebook detected. This cell will run indefinitely so that you can see errors and logs. To turn off, set debug=False in launch().\n",
            "Running on public URL: https://29585.gradio.app\n",
            "\n",
            "This share link expires in 72 hours. For free permanent hosting, check out Spaces: https://huggingface.co/spaces\n"
          ]
        },
        {
          "output_type": "display_data",
          "data": {
            "text/plain": [
              "<IPython.core.display.HTML object>"
            ],
            "text/html": [
              "<div><iframe src=\"https://29585.gradio.app\" width=\"900\" height=\"500\" allow=\"autoplay; camera; microphone; clipboard-read; clipboard-write;\" frameborder=\"0\" allowfullscreen></iframe></div>"
            ]
          },
          "metadata": {}
        },
        {
          "output_type": "stream",
          "name": "stdout",
          "text": [
            "Keyboard interruption in main thread... closing server.\n"
          ]
        },
        {
          "output_type": "execute_result",
          "data": {
            "text/plain": [
              "(<gradio.routes.App at 0x7f79bda5ae90>,\n",
              " 'http://127.0.0.1:7861/',\n",
              " 'https://29585.gradio.app')"
            ]
          },
          "metadata": {},
          "execution_count": 111
        }
      ],
      "source": [
        "def classify(text):\n",
        "  glove = torchtext.vocab.GloVe(name=\"6B\", dim=100)\n",
        "  checkpoint_baseline = torch.load(\"baseline.pt\")\n",
        "  baseline_model = baselineModel(glove,100)\n",
        "  baseline_model.load_state_dict(checkpoint_baseline)\n",
        "\n",
        "  checkpoint_cnn = torch.load(\"cnn.pt\")\n",
        "  cnn_model = cnn(glove,100)\n",
        "  cnn_model.load_state_dict(checkpoint_cnn)\n",
        "\n",
        "  tokens = text.split()\n",
        "  token_ints = [glove.stoi.get(tok, len(glove.stoi)-1) for tok in tokens]\n",
        "  token_tensor = torch.LongTensor(token_ints).view(-1,1)\n",
        "\n",
        "  baselinePrediction = baseline_model(token_tensor)\n",
        "  baselineProb = float(baselinePrediction)\n",
        "  \n",
        "  cnnPrediction = cnn_model(token_tensor)\n",
        "  cnnProb = float(cnnPrediction)\n",
        "\n",
        "\n",
        "  if baselineProb > 0.5:\n",
        "        a,b = \"subjective\", baselineProb\n",
        "  else:\n",
        "       a,b = \"objective\", baselineProb\n",
        "\n",
        "  if cnnProb > 0.5:\n",
        "        c,d = \"subjective\", cnnProb\n",
        "  else:\n",
        "       c,d = \"objective\", cnnProb\n",
        "  return a,b,c,d\n",
        "\n",
        "output1 = gr.Textbox(label=\"Baseline classification\")\n",
        "output2 = gr.Textbox(label=\"Baseline prediction probability\")\n",
        "\n",
        "output3 = gr.Textbox(label=\"CNN classification\")\n",
        "output4 = gr.Textbox(label=\"CNN prediction probability\")\n",
        "\n",
        "demo = gr.Interface(fn=classify, inputs=\"text\", outputs=[output1, output2, output3, output4])\n",
        "demo.launch(debug=True)"
      ]
    },
    {
      "cell_type": "code",
      "source": [],
      "metadata": {
        "id": "OvUc_EwQOVvu"
      },
      "execution_count": 111,
      "outputs": []
    }
  ],
  "metadata": {
    "colab": {
      "collapsed_sections": [],
      "provenance": []
    },
    "kernelspec": {
      "display_name": "Python 3",
      "name": "python3"
    },
    "language_info": {
      "name": "python"
    }
  },
  "nbformat": 4,
  "nbformat_minor": 0
}