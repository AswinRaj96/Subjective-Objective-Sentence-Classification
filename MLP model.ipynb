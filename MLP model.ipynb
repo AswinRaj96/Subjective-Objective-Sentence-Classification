{
  "nbformat": 4,
  "nbformat_minor": 0,
  "metadata": {
    "colab": {
      "provenance": [],
      "collapsed_sections": [],
      "machine_shape": "hm"
    },
    "kernelspec": {
      "name": "python3",
      "display_name": "Python 3"
    },
    "language_info": {
      "name": "python"
    },
    "gpuClass": "premium"
  },
  "cells": [
    {
      "cell_type": "markdown",
      "source": [
        "**How to run the file ?**  \n",
        "After uploading the corpus, just run all the cells one by one.\n",
        "The batch size has to be set while splitting the dataset to train, validation and test sets."
      ],
      "metadata": {
        "id": "IebSEHX5-RJy"
      }
    },
    {
      "cell_type": "code",
      "execution_count": 121,
      "metadata": {
        "id": "nJJjRNK2s-5K"
      },
      "outputs": [],
      "source": [
        "import torch\n",
        "import torchtext\n",
        "from torchtext import data\n",
        "import matplotlib.pyplot as plt\n",
        "import torch.optim as optim\n",
        "import argparse\n",
        "import os\n",
        "import pandas as pd\n",
        "import numpy as np\n",
        "from sklearn.model_selection import train_test_split\n",
        "from tqdm.notebook import tqdm\n",
        "import tensorflow as tf\n"
      ]
    },
    {
      "cell_type": "code",
      "source": [
        "df = pd.read_csv('/content/data.tsv', sep=\"\\t\")"
      ],
      "metadata": {
        "id": "SUZlFlt_tk7o"
      },
      "execution_count": 122,
      "outputs": []
    },
    {
      "cell_type": "code",
      "source": [
        "display(df)"
      ],
      "metadata": {
        "colab": {
          "base_uri": "https://localhost:8080/",
          "height": 424
        },
        "id": "u8LHVogIuEmh",
        "outputId": "758fa1a2-0f58-4653-86fd-f2b96600d930"
      },
      "execution_count": 123,
      "outputs": [
        {
          "output_type": "display_data",
          "data": {
            "text/plain": [
              "                                                   text  label\n",
              "0     smart and alert , thirteen conversations about...      1\n",
              "1     color , musical bounce and warm seas lapping o...      1\n",
              "2     it is not a mass-market entertainment but an u...      1\n",
              "3     a light-hearted french film about the spiritua...      1\n",
              "4     my wife is an actress has its moments in looki...      1\n",
              "...                                                 ...    ...\n",
              "9995  in the end , they discover that balance in lif...      0\n",
              "9996  a counterfeit 1000 tomin bank note is passed i...      0\n",
              "9997  enter the beautiful and mysterious secret agen...      0\n",
              "9998  after listening to a missionary from china spe...      0\n",
              "9999  looking for a short cut to fame , glass concoc...      0\n",
              "\n",
              "[10000 rows x 2 columns]"
            ],
            "text/html": [
              "\n",
              "  <div id=\"df-88eeb18e-b686-452a-9689-a93f4fd4df43\">\n",
              "    <div class=\"colab-df-container\">\n",
              "      <div>\n",
              "<style scoped>\n",
              "    .dataframe tbody tr th:only-of-type {\n",
              "        vertical-align: middle;\n",
              "    }\n",
              "\n",
              "    .dataframe tbody tr th {\n",
              "        vertical-align: top;\n",
              "    }\n",
              "\n",
              "    .dataframe thead th {\n",
              "        text-align: right;\n",
              "    }\n",
              "</style>\n",
              "<table border=\"1\" class=\"dataframe\">\n",
              "  <thead>\n",
              "    <tr style=\"text-align: right;\">\n",
              "      <th></th>\n",
              "      <th>text</th>\n",
              "      <th>label</th>\n",
              "    </tr>\n",
              "  </thead>\n",
              "  <tbody>\n",
              "    <tr>\n",
              "      <th>0</th>\n",
              "      <td>smart and alert , thirteen conversations about...</td>\n",
              "      <td>1</td>\n",
              "    </tr>\n",
              "    <tr>\n",
              "      <th>1</th>\n",
              "      <td>color , musical bounce and warm seas lapping o...</td>\n",
              "      <td>1</td>\n",
              "    </tr>\n",
              "    <tr>\n",
              "      <th>2</th>\n",
              "      <td>it is not a mass-market entertainment but an u...</td>\n",
              "      <td>1</td>\n",
              "    </tr>\n",
              "    <tr>\n",
              "      <th>3</th>\n",
              "      <td>a light-hearted french film about the spiritua...</td>\n",
              "      <td>1</td>\n",
              "    </tr>\n",
              "    <tr>\n",
              "      <th>4</th>\n",
              "      <td>my wife is an actress has its moments in looki...</td>\n",
              "      <td>1</td>\n",
              "    </tr>\n",
              "    <tr>\n",
              "      <th>...</th>\n",
              "      <td>...</td>\n",
              "      <td>...</td>\n",
              "    </tr>\n",
              "    <tr>\n",
              "      <th>9995</th>\n",
              "      <td>in the end , they discover that balance in lif...</td>\n",
              "      <td>0</td>\n",
              "    </tr>\n",
              "    <tr>\n",
              "      <th>9996</th>\n",
              "      <td>a counterfeit 1000 tomin bank note is passed i...</td>\n",
              "      <td>0</td>\n",
              "    </tr>\n",
              "    <tr>\n",
              "      <th>9997</th>\n",
              "      <td>enter the beautiful and mysterious secret agen...</td>\n",
              "      <td>0</td>\n",
              "    </tr>\n",
              "    <tr>\n",
              "      <th>9998</th>\n",
              "      <td>after listening to a missionary from china spe...</td>\n",
              "      <td>0</td>\n",
              "    </tr>\n",
              "    <tr>\n",
              "      <th>9999</th>\n",
              "      <td>looking for a short cut to fame , glass concoc...</td>\n",
              "      <td>0</td>\n",
              "    </tr>\n",
              "  </tbody>\n",
              "</table>\n",
              "<p>10000 rows × 2 columns</p>\n",
              "</div>\n",
              "      <button class=\"colab-df-convert\" onclick=\"convertToInteractive('df-88eeb18e-b686-452a-9689-a93f4fd4df43')\"\n",
              "              title=\"Convert this dataframe to an interactive table.\"\n",
              "              style=\"display:none;\">\n",
              "        \n",
              "  <svg xmlns=\"http://www.w3.org/2000/svg\" height=\"24px\"viewBox=\"0 0 24 24\"\n",
              "       width=\"24px\">\n",
              "    <path d=\"M0 0h24v24H0V0z\" fill=\"none\"/>\n",
              "    <path d=\"M18.56 5.44l.94 2.06.94-2.06 2.06-.94-2.06-.94-.94-2.06-.94 2.06-2.06.94zm-11 1L8.5 8.5l.94-2.06 2.06-.94-2.06-.94L8.5 2.5l-.94 2.06-2.06.94zm10 10l.94 2.06.94-2.06 2.06-.94-2.06-.94-.94-2.06-.94 2.06-2.06.94z\"/><path d=\"M17.41 7.96l-1.37-1.37c-.4-.4-.92-.59-1.43-.59-.52 0-1.04.2-1.43.59L10.3 9.45l-7.72 7.72c-.78.78-.78 2.05 0 2.83L4 21.41c.39.39.9.59 1.41.59.51 0 1.02-.2 1.41-.59l7.78-7.78 2.81-2.81c.8-.78.8-2.07 0-2.86zM5.41 20L4 18.59l7.72-7.72 1.47 1.35L5.41 20z\"/>\n",
              "  </svg>\n",
              "      </button>\n",
              "      \n",
              "  <style>\n",
              "    .colab-df-container {\n",
              "      display:flex;\n",
              "      flex-wrap:wrap;\n",
              "      gap: 12px;\n",
              "    }\n",
              "\n",
              "    .colab-df-convert {\n",
              "      background-color: #E8F0FE;\n",
              "      border: none;\n",
              "      border-radius: 50%;\n",
              "      cursor: pointer;\n",
              "      display: none;\n",
              "      fill: #1967D2;\n",
              "      height: 32px;\n",
              "      padding: 0 0 0 0;\n",
              "      width: 32px;\n",
              "    }\n",
              "\n",
              "    .colab-df-convert:hover {\n",
              "      background-color: #E2EBFA;\n",
              "      box-shadow: 0px 1px 2px rgba(60, 64, 67, 0.3), 0px 1px 3px 1px rgba(60, 64, 67, 0.15);\n",
              "      fill: #174EA6;\n",
              "    }\n",
              "\n",
              "    [theme=dark] .colab-df-convert {\n",
              "      background-color: #3B4455;\n",
              "      fill: #D2E3FC;\n",
              "    }\n",
              "\n",
              "    [theme=dark] .colab-df-convert:hover {\n",
              "      background-color: #434B5C;\n",
              "      box-shadow: 0px 1px 3px 1px rgba(0, 0, 0, 0.15);\n",
              "      filter: drop-shadow(0px 1px 2px rgba(0, 0, 0, 0.3));\n",
              "      fill: #FFFFFF;\n",
              "    }\n",
              "  </style>\n",
              "\n",
              "      <script>\n",
              "        const buttonEl =\n",
              "          document.querySelector('#df-88eeb18e-b686-452a-9689-a93f4fd4df43 button.colab-df-convert');\n",
              "        buttonEl.style.display =\n",
              "          google.colab.kernel.accessAllowed ? 'block' : 'none';\n",
              "\n",
              "        async function convertToInteractive(key) {\n",
              "          const element = document.querySelector('#df-88eeb18e-b686-452a-9689-a93f4fd4df43');\n",
              "          const dataTable =\n",
              "            await google.colab.kernel.invokeFunction('convertToInteractive',\n",
              "                                                     [key], {});\n",
              "          if (!dataTable) return;\n",
              "\n",
              "          const docLinkHtml = 'Like what you see? Visit the ' +\n",
              "            '<a target=\"_blank\" href=https://colab.research.google.com/notebooks/data_table.ipynb>data table notebook</a>'\n",
              "            + ' to learn more about interactive tables.';\n",
              "          element.innerHTML = '';\n",
              "          dataTable['output_type'] = 'display_data';\n",
              "          await google.colab.output.renderOutput(dataTable, element);\n",
              "          const docLink = document.createElement('div');\n",
              "          docLink.innerHTML = docLinkHtml;\n",
              "          element.appendChild(docLink);\n",
              "        }\n",
              "      </script>\n",
              "    </div>\n",
              "  </div>\n",
              "  "
            ]
          },
          "metadata": {}
        }
      ]
    },
    {
      "cell_type": "code",
      "source": [
        "X = df['text']\n",
        "y = df['label']"
      ],
      "metadata": {
        "id": "bJg-iqBIkoei"
      },
      "execution_count": 124,
      "outputs": []
    },
    {
      "cell_type": "code",
      "source": [
        "X_train, X_test, y_train, y_test = train_test_split(X, y, test_size=0.20,stratify=y)"
      ],
      "metadata": {
        "id": "p7gE5BCDuJoy"
      },
      "execution_count": 125,
      "outputs": []
    },
    {
      "cell_type": "code",
      "source": [
        "X_train,X_val,y_train,y_val = train_test_split(X_train, y_train, test_size=0.20,stratify=y_train)"
      ],
      "metadata": {
        "id": "VIWSMExmkw3b"
      },
      "execution_count": 126,
      "outputs": []
    },
    {
      "cell_type": "code",
      "source": [
        "print(X_train.shape)\n",
        "print(X_val.shape)\n",
        "print(X_test.shape)"
      ],
      "metadata": {
        "colab": {
          "base_uri": "https://localhost:8080/"
        },
        "id": "Oz4e6c89lX85",
        "outputId": "dd1123c5-9834-490e-de34-af92622615d5"
      },
      "execution_count": 127,
      "outputs": [
        {
          "output_type": "stream",
          "name": "stdout",
          "text": [
            "(6400,)\n",
            "(1600,)\n",
            "(2000,)\n"
          ]
        }
      ]
    },
    {
      "cell_type": "code",
      "source": [
        "z, v = y_train.value_counts()\n",
        "print(z)\n",
        "print(v)"
      ],
      "metadata": {
        "colab": {
          "base_uri": "https://localhost:8080/"
        },
        "id": "IgDLs1I7pe8J",
        "outputId": "81460c75-d076-4d6a-db52-b6a2fa5c0f10"
      },
      "execution_count": 128,
      "outputs": [
        {
          "output_type": "stream",
          "name": "stdout",
          "text": [
            "3200\n",
            "3200\n"
          ]
        }
      ]
    },
    {
      "cell_type": "code",
      "source": [
        "def verify_split_count(x):\n",
        "  x_count, y_count = x.value_counts()\n",
        "  if(x_count == y_count):\n",
        "    return \"Satisfied\"\n",
        "  else:\n",
        "    return \"Failed\"\n"
      ],
      "metadata": {
        "id": "DtVqtDc0l88x"
      },
      "execution_count": 129,
      "outputs": []
    },
    {
      "cell_type": "code",
      "source": [
        "print(verify_split_count(y_train))\n",
        "print(verify_split_count(y_test))\n",
        "print(verify_split_count(y_val))"
      ],
      "metadata": {
        "colab": {
          "base_uri": "https://localhost:8080/"
        },
        "id": "KrjC2xSfmCnB",
        "outputId": "902b713f-f2aa-49cd-812c-f34e875d9597"
      },
      "execution_count": 130,
      "outputs": [
        {
          "output_type": "stream",
          "name": "stdout",
          "text": [
            "Satisfied\n",
            "Satisfied\n",
            "Satisfied\n"
          ]
        }
      ]
    },
    {
      "cell_type": "code",
      "source": [
        "def create_overfit_set():\n",
        "  condition_positive = df['label'] == 1\n",
        "  condition_negative = df['label'] == 0\n",
        "\n",
        "  positive_set = df[condition_positive].sample(n = 25)\n",
        "  negative_set = df[condition_negative].sample(n = 25)\n",
        "\n",
        "  sample_set = [positive_set,negative_set]\n",
        "  overfit_set = pd.concat(sample_set)\n",
        "  return overfit_set"
      ],
      "metadata": {
        "id": "nBiVWHK6xbi9"
      },
      "execution_count": 131,
      "outputs": []
    },
    {
      "cell_type": "code",
      "source": [
        "overfit_dataset = create_overfit_set()"
      ],
      "metadata": {
        "id": "GDJ5wr9Hp2QC"
      },
      "execution_count": 132,
      "outputs": []
    },
    {
      "cell_type": "code",
      "source": [
        "def check_is_unique(df_1,df_2):\n",
        "  check_df = df_1.to_frame().merge(df_2, how = \"inner\",indicator=False)\n",
        "  if check_df.size == 0:\n",
        "    return \"No duplicate rows\"\n",
        "  else:\n",
        "    return \"Duplicate rows found\"\n"
      ],
      "metadata": {
        "id": "DKiXjOO9-mik"
      },
      "execution_count": 133,
      "outputs": []
    },
    {
      "cell_type": "code",
      "source": [
        "check_is_unique(X_train,X_test)"
      ],
      "metadata": {
        "colab": {
          "base_uri": "https://localhost:8080/",
          "height": 36
        },
        "id": "P6mxX4up-0gw",
        "outputId": "9c588f67-5d7a-4acf-cb75-7b0c35dd066b"
      },
      "execution_count": 134,
      "outputs": [
        {
          "output_type": "execute_result",
          "data": {
            "text/plain": [
              "'No duplicate rows'"
            ],
            "application/vnd.google.colaboratory.intrinsic+json": {
              "type": "string"
            }
          },
          "metadata": {},
          "execution_count": 134
        }
      ]
    },
    {
      "cell_type": "code",
      "source": [
        "train_dataset = pd.concat([X_train, y_train], axis=1)\n",
        "val_dataset = pd.concat([X_val, y_val], axis=1)\n",
        "test_dataset = pd.concat([X_test, y_test], axis=1)\n"
      ],
      "metadata": {
        "id": "uinEWtcnnuHQ"
      },
      "execution_count": 135,
      "outputs": []
    },
    {
      "cell_type": "code",
      "source": [
        "train_dataset.to_csv(\"train.tsv\", sep=\"\\t\")\n",
        "val_dataset.to_csv(\"validation.tsv\", sep=\"\\t\")\n",
        "test_dataset.to_csv(\"test.tsv\", sep=\"\\t\")\n",
        "overfit_dataset.to_csv(\"overfit.tsv\", sep=\"\\t\")"
      ],
      "metadata": {
        "id": "om5SHCwjv3h3"
      },
      "execution_count": 136,
      "outputs": []
    },
    {
      "cell_type": "code",
      "source": [
        "class TextDataset(torch.utils.data.Dataset):\n",
        "    def __init__(self, vocab, split=\"train\"):\n",
        "        data_path = \"/content/\"\n",
        "        fullpath = os.path.join(data_path, f\"{split}.tsv\")\n",
        "        # print(fullpath)\n",
        "        df = pd.read_csv(os.path.join(data_path, f\"{split}.tsv\"), sep=\"\\t\")\n",
        "\n",
        "        # X: torch.tensor (maxlen, batch_size), padded indices\n",
        "        # Y: torch.tensor of len N\n",
        "        X, Y = [], []\n",
        "        V = len(vocab.vectors)\n",
        "        for i, row in df.iterrows():\n",
        "            L = row[\"text\"].split()\n",
        "            X.append(torch.tensor([vocab.stoi.get(w, V-1) for w in L]))  # Use the last word in the vocab as the \"out-of-vocabulary\" token\n",
        "            Y.append(row.label)\n",
        "        self.X = X \n",
        "        self.Y = torch.tensor(Y)\n",
        "        \n",
        "    def __len__(self):\n",
        "        return len(self.X)\n",
        "\n",
        "    def __getitem__(self, idx):\n",
        "        return self.X[idx], self.Y[idx] "
      ],
      "metadata": {
        "id": "BPcsOaQ0mQ1g"
      },
      "execution_count": 137,
      "outputs": []
    },
    {
      "cell_type": "code",
      "source": [
        "def my_collate_function(batch, device):\n",
        "    # Handle the padding here\n",
        "    # batch is approximately: [dataset[i] for i in range(0, batch_size)]\n",
        "    # Since the dataset[i]'s contents is defined in the __getitem__() above, this collate function \n",
        "    # should be set correspondingly.\n",
        "    # Also: collate_function just takes one argument. To pass in additional arguments (e.g., device), \n",
        "    # we need to wrap up an anonymous function (using lambda below)\n",
        "    batch_x, batch_y = [], []\n",
        "    max_len = 0\n",
        "    for x,y in batch:\n",
        "        batch_y.append(y)\n",
        "        max_len = max(max_len, len(x))\n",
        "    for x,y in batch:\n",
        "        x_p = torch.concat(\n",
        "            [x, torch.zeros(max_len - len(x))]\n",
        "        )\n",
        "        batch_x.append(x_p)\n",
        "    return torch.stack(batch_x).t().int().to(device), torch.tensor(batch_y).to(device)"
      ],
      "metadata": {
        "id": "KdkFjXDHmt6L"
      },
      "execution_count": 138,
      "outputs": []
    },
    {
      "cell_type": "code",
      "source": [
        "batch_size = 4\n",
        "#   fix seed\n",
        "torch.manual_seed(2)\n",
        "\n",
        "device = torch.device('cuda' if torch.cuda.is_available() else 'cpu')\n",
        "print (\"Using device:\", device)\n",
        "\n",
        "### 3.3 Processing of the data ###\n",
        "# 3.3.1\n",
        "# The first time you run this will download a 862MB size file to .vector_cache/glove.6B.zip\n",
        "glove = torchtext.vocab.GloVe(name=\"6B\",dim=100) # embedding size = 100\n",
        "                                \n",
        "# # 3.3.2\n",
        "\n",
        "train_dataset = TextDataset(glove, \"train\")\n",
        "val_dataset = TextDataset(glove, \"validation\")\n",
        "test_dataset = TextDataset(glove, \"test\")\n",
        "overfit_dataset = TextDataset(glove, \"overfit\")\n",
        "    \n",
        "# # 3.3.3\n",
        "train_dataloader = torch.utils.data.DataLoader(\n",
        "    dataset=train_dataset, \n",
        "    batch_size=batch_size, \n",
        "    shuffle=False, \n",
        "    collate_fn=lambda batch: my_collate_function(batch, device))\n",
        "\n",
        "validation_dataloader = torch.utils.data.DataLoader(\n",
        "    dataset=val_dataset, \n",
        "    batch_size=batch_size, \n",
        "    shuffle=False, \n",
        "    collate_fn=lambda batch: my_collate_function(batch, device))\n",
        "\n",
        "test_dataloader = torch.utils.data.DataLoader(\n",
        "    dataset=test_dataset,\n",
        "    batch_size=batch_size,\n",
        "    shuffle=False,\n",
        "    collate_fn=lambda batch: my_collate_function(batch, device))\n",
        "    \n",
        "overfit_dataloader = torch.utils.data.DataLoader(\n",
        "    dataset=overfit_dataset,\n",
        "    batch_size=batch_size,\n",
        "    shuffle=False,\n",
        "    collate_fn=lambda batch: my_collate_function(batch, device))\n",
        "    \n",
        "    # for item in train_dataloader:\n",
        "    #   print(item)\n",
        "    #   break"
      ],
      "metadata": {
        "id": "7SbUdbdzmxJs",
        "colab": {
          "base_uri": "https://localhost:8080/"
        },
        "outputId": "87a63b15-cff4-408b-e01d-9cd1503d126d"
      },
      "execution_count": 139,
      "outputs": [
        {
          "output_type": "stream",
          "name": "stdout",
          "text": [
            "Using device: cpu\n"
          ]
        }
      ]
    },
    {
      "cell_type": "code",
      "source": [
        "class baselineModel(torch.nn.Module):\n",
        "      def __init__(self, vocab, emdedding_size):\n",
        "        super(baselineModel,self).__init__()\n",
        "        self.embedding = torch.nn.Embedding.from_pretrained(vocab.vectors)\n",
        "        self.linear = torch.nn.Linear(emdedding_size,1)\n",
        "      def forward(self, x):\n",
        "        embedded_result = self.embedding(x)\n",
        "        average_result = torch.mean(embedded_result,0)\n",
        "        prediction = self.linear(average_result)\n",
        "        # print(prediction.shape)\n",
        "        return prediction\n"
      ],
      "metadata": {
        "id": "SDtjIP1Hop-M"
      },
      "execution_count": 140,
      "outputs": []
    },
    {
      "cell_type": "code",
      "source": [
        "def train_baseline_model_overfit(dataloader, embedding_size):\n",
        "    BATCH_SIZE = 4\n",
        "    epoch = 50\n",
        "    \n",
        "    learning_rate = 0.2\n",
        "    train_set_loss = []\n",
        "    test_set_loss = []\n",
        "    t_accuracy = []\n",
        "    v_accuracy = []\n",
        "    val_set_loss = []\n",
        "    val_loss = 0.0\n",
        "    model = baselineModel(glove,embedding_size)\n",
        "    criterion = torch.nn.BCEWithLogitsLoss()\n",
        "    optimizer = torch.optim.Adam(model.parameters(),learning_rate)\n",
        "    print(\"Training Started ----->\")\n",
        "    iterations = np.arange(0,epoch)\n",
        "    for epoch in range(epoch):\n",
        "      train_loss = 0.0\n",
        "\n",
        "      model.train()\n",
        "      n1=0\n",
        "      train_accuracy = 0.0\n",
        "      for text,label in (iter(dataloader)):\n",
        "        \n",
        "        prediction = model(text)\n",
        "        prediction = prediction.squeeze(1)\n",
        "        label = label.type(torch.float)\n",
        "        # prediction = torch.reshape(prediction,(1,4))\n",
        "        # print(prediction)\n",
        "        # print(label)\n",
        "        loss = criterion(prediction,label)\n",
        "        loss.backward()\n",
        "        optimizer.step()\n",
        "        # print(\"Prediction shape--->\",prediction.shape)\n",
        "        # print(\"Prediction shape--->\",label.unsqueeze(0))\n",
        "        accuracy = ((prediction>0.5)==label).float().sum()\n",
        "        train_accuracy = train_accuracy + accuracy/batch_size\n",
        "        # print(\"train_accuracy--->\",train_accuracy)\n",
        "        optimizer.zero_grad()\n",
        "        train_loss = train_loss + (float(loss))\n",
        "        n1= n1+1\n",
        "      train_set_loss.append(train_loss/n1)\n",
        "      t_accuracy.append(train_accuracy/n1)\n",
        "\n",
        "      model.eval()\n",
        "      with torch.no_grad():\n",
        "        val_loss = 0.0\n",
        "        val_accuracy = 0.0\n",
        "        n2=0\n",
        "        for text,label in iter(dataloader):\n",
        "          prediction = model(text)\n",
        "          prediction = prediction.squeeze(1)\n",
        "          label = label.type(torch.float)\n",
        "          accuracy = ((prediction>0.5)==label).float().sum()\n",
        "          val_accuracy = val_accuracy + (accuracy/BATCH_SIZE)\n",
        "          # print(val_accuracy)\n",
        "          loss = criterion(prediction,label)\n",
        "          val_loss = val_loss + (float(loss)/BATCH_SIZE)\n",
        "          n2= n2+1\n",
        "        val_set_loss.append(val_loss/n2)\n",
        "        v_accuracy.append(val_accuracy/n2)\n",
        "        # print(v_accuracy)\n",
        "\n",
        "      print(\"Epoch [{}], overfit_dataset_loss: {:.4f}, Accuracy: {:.4f}\".format(epoch,train_set_loss[-1],t_accuracy[-1]))\n",
        "\n",
        "    plt.title(\"Accuracy curve for Baseline model - Overfit Dataset\")\n",
        "    plt.plot(iterations,t_accuracy,label = \"Training\")\n",
        "    plt.xlabel(\"Epochs\")\n",
        "    plt.ylabel(\"Accuracy\")\n",
        "    plt.legend()\n",
        "    plt.show()    \n",
        "\n",
        "    plt.title(\"Loss curve for Baseline model - Overfit Dataset\")\n",
        "    plt.plot(iterations,train_set_loss,label = \"Overfit\")\n",
        "    plt.xlabel(\"Epochs\")\n",
        "    plt.ylabel(\"Accuracy\")\n",
        "    plt.legend()\n",
        "    plt.show() \n",
        "\n",
        "    return model"
      ],
      "metadata": {
        "id": "kx6cvjDTzNmE"
      },
      "execution_count": 141,
      "outputs": []
    },
    {
      "cell_type": "code",
      "source": [
        "train_baseline_model_overfit(overfit_dataloader,100)"
      ],
      "metadata": {
        "colab": {
          "base_uri": "https://localhost:8080/",
          "height": 1000
        },
        "id": "lxrS9T2IwWGL",
        "outputId": "dbb405a2-3c6d-40cb-9f83-52dcb9548714"
      },
      "execution_count": 142,
      "outputs": [
        {
          "output_type": "stream",
          "name": "stdout",
          "text": [
            "Training Started ----->\n",
            "Epoch [0], overfit_dataset_loss: 4.8771, Accuracy: 0.4423\n",
            "Epoch [1], overfit_dataset_loss: 4.8861, Accuracy: 0.4423\n",
            "Epoch [2], overfit_dataset_loss: 0.6117, Accuracy: 0.7500\n",
            "Epoch [3], overfit_dataset_loss: 2.9104, Accuracy: 0.1346\n",
            "Epoch [4], overfit_dataset_loss: 1.0884, Accuracy: 0.5192\n",
            "Epoch [5], overfit_dataset_loss: 0.5472, Accuracy: 0.7308\n",
            "Epoch [6], overfit_dataset_loss: 0.6919, Accuracy: 0.6154\n",
            "Epoch [7], overfit_dataset_loss: 0.9362, Accuracy: 0.5192\n",
            "Epoch [8], overfit_dataset_loss: 0.8410, Accuracy: 0.5577\n",
            "Epoch [9], overfit_dataset_loss: 0.5773, Accuracy: 0.6346\n",
            "Epoch [10], overfit_dataset_loss: 0.4320, Accuracy: 0.7500\n",
            "Epoch [11], overfit_dataset_loss: 0.4490, Accuracy: 0.7115\n",
            "Epoch [12], overfit_dataset_loss: 0.4951, Accuracy: 0.6731\n",
            "Epoch [13], overfit_dataset_loss: 0.4775, Accuracy: 0.7308\n",
            "Epoch [14], overfit_dataset_loss: 0.4062, Accuracy: 0.7885\n",
            "Epoch [15], overfit_dataset_loss: 0.3434, Accuracy: 0.8077\n",
            "Epoch [16], overfit_dataset_loss: 0.3198, Accuracy: 0.8077\n",
            "Epoch [17], overfit_dataset_loss: 0.3149, Accuracy: 0.8077\n",
            "Epoch [18], overfit_dataset_loss: 0.3042, Accuracy: 0.8077\n",
            "Epoch [19], overfit_dataset_loss: 0.2839, Accuracy: 0.8269\n",
            "Epoch [20], overfit_dataset_loss: 0.2626, Accuracy: 0.8654\n",
            "Epoch [21], overfit_dataset_loss: 0.2465, Accuracy: 0.8846\n",
            "Epoch [22], overfit_dataset_loss: 0.2341, Accuracy: 0.9038\n",
            "Epoch [23], overfit_dataset_loss: 0.2222, Accuracy: 0.9038\n",
            "Epoch [24], overfit_dataset_loss: 0.2098, Accuracy: 0.9038\n",
            "Epoch [25], overfit_dataset_loss: 0.1977, Accuracy: 0.9038\n",
            "Epoch [26], overfit_dataset_loss: 0.1866, Accuracy: 0.9038\n",
            "Epoch [27], overfit_dataset_loss: 0.1763, Accuracy: 0.9231\n",
            "Epoch [28], overfit_dataset_loss: 0.1667, Accuracy: 0.9231\n",
            "Epoch [29], overfit_dataset_loss: 0.1576, Accuracy: 0.9231\n",
            "Epoch [30], overfit_dataset_loss: 0.1491, Accuracy: 0.9231\n",
            "Epoch [31], overfit_dataset_loss: 0.1411, Accuracy: 0.9231\n",
            "Epoch [32], overfit_dataset_loss: 0.1336, Accuracy: 0.9231\n",
            "Epoch [33], overfit_dataset_loss: 0.1267, Accuracy: 0.9231\n",
            "Epoch [34], overfit_dataset_loss: 0.1203, Accuracy: 0.9423\n",
            "Epoch [35], overfit_dataset_loss: 0.1143, Accuracy: 0.9423\n",
            "Epoch [36], overfit_dataset_loss: 0.1088, Accuracy: 0.9423\n",
            "Epoch [37], overfit_dataset_loss: 0.1037, Accuracy: 0.9423\n",
            "Epoch [38], overfit_dataset_loss: 0.0990, Accuracy: 0.9423\n",
            "Epoch [39], overfit_dataset_loss: 0.0946, Accuracy: 0.9423\n",
            "Epoch [40], overfit_dataset_loss: 0.0906, Accuracy: 0.9423\n",
            "Epoch [41], overfit_dataset_loss: 0.0868, Accuracy: 0.9423\n",
            "Epoch [42], overfit_dataset_loss: 0.0833, Accuracy: 0.9423\n",
            "Epoch [43], overfit_dataset_loss: 0.0801, Accuracy: 0.9423\n",
            "Epoch [44], overfit_dataset_loss: 0.0771, Accuracy: 0.9423\n",
            "Epoch [45], overfit_dataset_loss: 0.0742, Accuracy: 0.9423\n",
            "Epoch [46], overfit_dataset_loss: 0.0716, Accuracy: 0.9423\n",
            "Epoch [47], overfit_dataset_loss: 0.0691, Accuracy: 0.9615\n",
            "Epoch [48], overfit_dataset_loss: 0.0668, Accuracy: 0.9615\n",
            "Epoch [49], overfit_dataset_loss: 0.0646, Accuracy: 0.9615\n"
          ]
        },
        {
          "output_type": "display_data",
          "data": {
            "text/plain": [
              "<Figure size 432x288 with 1 Axes>"
            ],
            "image/png": "[encoded data removed]"
          },
          "metadata": {
            "needs_background": "light"
          }
        },
        {
          "output_type": "display_data",
          "data": {
            "text/plain": [
              "<Figure size 432x288 with 1 Axes>"
            ],
            "image/png": "[encoded data removed]"
          },
          "metadata": {
            "needs_background": "light"
          }
        },
        {
          "output_type": "execute_result",
          "data": {
            "text/plain": [
              "baselineModel(\n",
              "  (embedding): Embedding(400000, 100)\n",
              "  (linear): Linear(in_features=100, out_features=1, bias=True)\n",
              ")"
            ]
          },
          "metadata": {},
          "execution_count": 142
        }
      ]
    },
    {
      "cell_type": "code",
      "source": [
        "def train_baseline_model(dataloader, embedding_size):\n",
        "    BATCH_SIZE = 4\n",
        "    epoch = 50\n",
        "    \n",
        "    learning_rate = 0.001\n",
        "    train_set_loss = []\n",
        "    test_set_loss = []\n",
        "    t_accuracy = []\n",
        "    v_accuracy = []\n",
        "    val_set_loss = []\n",
        "    val_loss = 0.0\n",
        "    model = baselineModel(glove,embedding_size)\n",
        "    criterion = torch.nn.BCEWithLogitsLoss()\n",
        "    optimizer = torch.optim.Adam(model.parameters(),learning_rate)\n",
        "    print(\"Training Started ----->\")\n",
        "    iterations = np.arange(0,epoch)\n",
        "    for epoch in range(epoch):\n",
        "      train_loss = 0.0\n",
        "\n",
        "      model.train()\n",
        "      n1=0\n",
        "      train_accuracy = 0.0\n",
        "      for text,label in (iter(dataloader)):\n",
        "        \n",
        "        prediction = model(text)\n",
        "        prediction = prediction.squeeze(1)\n",
        "        label = label.type(torch.float)\n",
        "        # prediction = torch.reshape(prediction,(1,4))\n",
        "        # print(prediction)\n",
        "        # print(label)\n",
        "        loss = criterion(prediction,label)\n",
        "        loss.backward()\n",
        "        optimizer.step()\n",
        "        # print(\"Prediction shape--->\",prediction.shape)\n",
        "        # print(\"Prediction shape--->\",label.unsqueeze(0))\n",
        "        accuracy = ((prediction>0.5)==label).float().sum()\n",
        "        train_accuracy = train_accuracy + accuracy/batch_size\n",
        "        # print(\"train_accuracy--->\",train_accuracy)\n",
        "        optimizer.zero_grad()\n",
        "        train_loss = train_loss + (float(loss))\n",
        "        n1= n1+1\n",
        "      train_set_loss.append(train_loss/n1)\n",
        "      t_accuracy.append(train_accuracy/n1)\n",
        "\n",
        "      model.eval()\n",
        "      with torch.no_grad():\n",
        "        val_loss = 0.0\n",
        "        val_accuracy = 0.0\n",
        "        n2=0\n",
        "        for text,label in iter(dataloader):\n",
        "          prediction = model(text)\n",
        "          prediction = prediction.squeeze(1)\n",
        "          label = label.type(torch.float)\n",
        "          accuracy = ((prediction>0.5)==label).float().sum()\n",
        "          val_accuracy = val_accuracy + (accuracy/BATCH_SIZE)\n",
        "          loss = criterion(prediction,label)\n",
        "          val_loss = val_loss + (float(loss)/BATCH_SIZE)\n",
        "          n2= n2+1\n",
        "        val_set_loss.append(val_loss/n2)\n",
        "        v_accuracy.append(val_accuracy/n2)\n",
        "\n",
        "      print(\"Epoch [{}], train_loss: {:.4f}, Accuracy: {:.4f}\".format(epoch,train_set_loss[-1],t_accuracy[-1]))\n",
        "\n",
        "    plt.title(\"Accuracy curve for Baseline model\")\n",
        "    plt.plot(iterations,t_accuracy,label = \"Training\")\n",
        "    plt.plot(iterations,v_accuracy,label = \"Validation\")\n",
        "    plt.xlabel(\"Epochs\")\n",
        "    plt.ylabel(\"Accuracy\")\n",
        "    plt.legend()\n",
        "    plt.show()  \n",
        "\n",
        "    plt.title(\"Loss curve for Baseline model\")\n",
        "    plt.plot(iterations,train_set_loss,label = \"Training\")\n",
        "    plt.plot(iterations,val_set_loss,label = \"Validation\")\n",
        "    plt.xlabel(\"Epochs\")\n",
        "    plt.ylabel(\"Accuracy\")\n",
        "    plt.legend()\n",
        "    plt.show() \n",
        "\n",
        "\n",
        "    return model"
      ],
      "metadata": {
        "id": "QEJaSCLz122Z"
      },
      "execution_count": 143,
      "outputs": []
    },
    {
      "cell_type": "code",
      "source": [
        "model = train_baseline_model(train_dataloader,100)"
      ],
      "metadata": {
        "colab": {
          "base_uri": "https://localhost:8080/",
          "height": 1000
        },
        "id": "gjrJnXv1EmoN",
        "outputId": "36f8b08c-8df9-4259-81d1-a3528e3fe03f"
      },
      "execution_count": 144,
      "outputs": [
        {
          "output_type": "stream",
          "name": "stdout",
          "text": [
            "Training Started ----->\n",
            "Epoch [0], train_loss: 0.6053, Accuracy: 0.5466\n",
            "Epoch [1], train_loss: 0.4929, Accuracy: 0.7262\n",
            "Epoch [2], train_loss: 0.4355, Accuracy: 0.7920\n",
            "Epoch [3], train_loss: 0.4015, Accuracy: 0.8186\n",
            "Epoch [4], train_loss: 0.3793, Accuracy: 0.8317\n",
            "Epoch [5], train_loss: 0.3636, Accuracy: 0.8397\n",
            "Epoch [6], train_loss: 0.3520, Accuracy: 0.8458\n",
            "Epoch [7], train_loss: 0.3429, Accuracy: 0.8506\n",
            "Epoch [8], train_loss: 0.3356, Accuracy: 0.8545\n",
            "Epoch [9], train_loss: 0.3296, Accuracy: 0.8586\n",
            "Epoch [10], train_loss: 0.3245, Accuracy: 0.8608\n",
            "Epoch [11], train_loss: 0.3202, Accuracy: 0.8623\n",
            "Epoch [12], train_loss: 0.3165, Accuracy: 0.8642\n",
            "Epoch [13], train_loss: 0.3132, Accuracy: 0.8661\n",
            "Epoch [14], train_loss: 0.3102, Accuracy: 0.8678\n",
            "Epoch [15], train_loss: 0.3076, Accuracy: 0.8694\n",
            "Epoch [16], train_loss: 0.3053, Accuracy: 0.8706\n",
            "Epoch [17], train_loss: 0.3031, Accuracy: 0.8719\n",
            "Epoch [18], train_loss: 0.3011, Accuracy: 0.8727\n",
            "Epoch [19], train_loss: 0.2994, Accuracy: 0.8731\n",
            "Epoch [20], train_loss: 0.2977, Accuracy: 0.8731\n",
            "Epoch [21], train_loss: 0.2962, Accuracy: 0.8728\n",
            "Epoch [22], train_loss: 0.2947, Accuracy: 0.8734\n",
            "Epoch [23], train_loss: 0.2934, Accuracy: 0.8737\n",
            "Epoch [24], train_loss: 0.2922, Accuracy: 0.8748\n",
            "Epoch [25], train_loss: 0.2910, Accuracy: 0.8748\n",
            "Epoch [26], train_loss: 0.2899, Accuracy: 0.8748\n",
            "Epoch [27], train_loss: 0.2888, Accuracy: 0.8759\n",
            "Epoch [28], train_loss: 0.2879, Accuracy: 0.8764\n",
            "Epoch [29], train_loss: 0.2869, Accuracy: 0.8769\n",
            "Epoch [30], train_loss: 0.2861, Accuracy: 0.8778\n",
            "Epoch [31], train_loss: 0.2852, Accuracy: 0.8781\n",
            "Epoch [32], train_loss: 0.2844, Accuracy: 0.8784\n",
            "Epoch [33], train_loss: 0.2837, Accuracy: 0.8786\n",
            "Epoch [34], train_loss: 0.2829, Accuracy: 0.8791\n",
            "Epoch [35], train_loss: 0.2822, Accuracy: 0.8792\n",
            "Epoch [36], train_loss: 0.2816, Accuracy: 0.8795\n",
            "Epoch [37], train_loss: 0.2809, Accuracy: 0.8798\n",
            "Epoch [38], train_loss: 0.2803, Accuracy: 0.8806\n",
            "Epoch [39], train_loss: 0.2797, Accuracy: 0.8802\n",
            "Epoch [40], train_loss: 0.2792, Accuracy: 0.8802\n",
            "Epoch [41], train_loss: 0.2786, Accuracy: 0.8811\n",
            "Epoch [42], train_loss: 0.2781, Accuracy: 0.8814\n",
            "Epoch [43], train_loss: 0.2776, Accuracy: 0.8817\n",
            "Epoch [44], train_loss: 0.2771, Accuracy: 0.8825\n",
            "Epoch [45], train_loss: 0.2767, Accuracy: 0.8833\n",
            "Epoch [46], train_loss: 0.2762, Accuracy: 0.8831\n",
            "Epoch [47], train_loss: 0.2758, Accuracy: 0.8838\n",
            "Epoch [48], train_loss: 0.2753, Accuracy: 0.8838\n",
            "Epoch [49], train_loss: 0.2749, Accuracy: 0.8842\n"
          ]
        },
        {
          "output_type": "display_data",
          "data": {
            "text/plain": [
              "<Figure size 432x288 with 1 Axes>"
            ],
            "image/png": "[encoded data removed]"
          },
          "metadata": {
            "needs_background": "light"
          }
        },
        {
          "output_type": "display_data",
          "data": {
            "text/plain": [
              "<Figure size 432x288 with 1 Axes>"
            ],
            "image/png": "[encoded data removed]"
          },
          "metadata": {
            "needs_background": "light"
          }
        }
      ]
    },
    {
      "cell_type": "code",
      "source": [
        "#test set\n",
        "\n",
        "def evaluate(dataloader):\n",
        "  BATCH_SIZE = 4\n",
        "  epoch = 50\n",
        "  iterations = np.arange(0,epoch)\n",
        "  criterion = torch.nn.BCEWithLogitsLoss()\n",
        "  learning_rate = 0.001\n",
        "  train_set_loss = []\n",
        "  test_set_loss = []\n",
        "  t_accuracy = []\n",
        "  v_accuracy = []\n",
        "  val_set_loss = []\n",
        "  val_loss = 0.0\n",
        "  model.eval()\n",
        "  with torch.no_grad():\n",
        "    val_loss = 0.0\n",
        "    val_accuracy = 0.0\n",
        "    n2=0\n",
        "    for text,label in iter(dataloader):\n",
        "      prediction = model(text)\n",
        "      prediction = prediction.squeeze(1)\n",
        "      label = label.type(torch.float)\n",
        "      accuracy = ((prediction>0.5)==label).float().sum()\n",
        "      val_accuracy = val_accuracy + (accuracy/BATCH_SIZE)\n",
        "      # print(val_accuracy)\n",
        "      loss = criterion(prediction,label)\n",
        "      val_loss = val_loss + (float(loss)/BATCH_SIZE)\n",
        "      n2= n2+1\n",
        "    val_set_loss.append(val_loss/n2)\n",
        "    v_accuracy.append(val_accuracy/n2)\n",
        "  print(\"test_loss: {:.4f}, test_accuracy: {:.4f}\".format(val_set_loss[-1],v_accuracy[-1]))\n",
        "  "
      ],
      "metadata": {
        "id": "o5p-cyR3-67q"
      },
      "execution_count": 145,
      "outputs": []
    },
    {
      "cell_type": "code",
      "source": [
        "evaluate(test_dataloader)"
      ],
      "metadata": {
        "colab": {
          "base_uri": "https://localhost:8080/"
        },
        "id": "xowYcYnI_3yO",
        "outputId": "e2c53f2e-dc80-4988-9e7a-8061510a9eaa"
      },
      "execution_count": 146,
      "outputs": [
        {
          "output_type": "stream",
          "name": "stdout",
          "text": [
            "test_loss: 0.0675, test_accuracy: 0.8855\n"
          ]
        }
      ]
    },
    {
      "cell_type": "code",
      "source": [
        "parameters = list(model.parameters())"
      ],
      "metadata": {
        "id": "oYITnIHxJaqI"
      },
      "execution_count": 147,
      "outputs": []
    },
    {
      "cell_type": "code",
      "source": [
        "vec = parameters[1].detach()"
      ],
      "metadata": {
        "id": "s8Fb0XrgKf0G"
      },
      "execution_count": 148,
      "outputs": []
    },
    {
      "cell_type": "code",
      "source": [
        "def print_closest_cosine_words(vec, n=5):\n",
        "    cosine = torch.nn.CosineSimilarity(dim=2)\n",
        "    dists = cosine(glove.vectors.unsqueeze(0), vec.unsqueeze(0))\n",
        "    dists = dists.squeeze(0)\n",
        "    lst = sorted(enumerate(dists.numpy()), key=lambda x: x[1], reverse = True) \n",
        "    for idx, difference in lst[1:n+1]:                         \n",
        "        print(glove.itos[idx], \"\\t%5.2f\" % difference)"
      ],
      "metadata": {
        "id": "gBw33T9VMDyy"
      },
      "execution_count": 149,
      "outputs": []
    },
    {
      "cell_type": "code",
      "source": [
        "print_closest_cosine_words(vec, n=20)"
      ],
      "metadata": {
        "colab": {
          "base_uri": "https://localhost:8080/"
        },
        "id": "7i5aJ6FQMNuy",
        "outputId": "4dd39073-4242-4f8a-ce4a-08801d2d97c5"
      },
      "execution_count": 150,
      "outputs": [
        {
          "output_type": "stream",
          "name": "stdout",
          "text": [
            "watchable \t 0.52\n",
            "pleasing \t 0.52\n",
            "flattering \t 0.51\n",
            "campy \t 0.51\n",
            "visuals \t 0.50\n",
            "underwhelming \t 0.50\n",
            "simplistic \t 0.50\n",
            "laughable \t 0.49\n",
            "verbiage \t 0.49\n",
            "funnily \t 0.48\n",
            "emptier \t 0.48\n",
            "suspenseful \t 0.48\n",
            "riveting \t 0.48\n",
            "hokum \t 0.48\n",
            "uninspired \t 0.48\n",
            "mesmerizing \t 0.48\n",
            "engrossing \t 0.48\n",
            "appetizing \t 0.48\n",
            "cartoony \t 0.48\n",
            "nuanced \t 0.47\n"
          ]
        }
      ]
    },
    {
      "cell_type": "code",
      "source": [
        "torch.save(model.state_dict(), 'model baseline.pt')"
      ],
      "metadata": {
        "id": "HsyRZyGAZpmS"
      },
      "execution_count": 151,
      "outputs": []
    },
    {
      "cell_type": "markdown",
      "source": [
        "**Q 4.5**\n",
        "\n",
        "**In the baseline model, what information contained in the original sentence is being ignored?**\n",
        "\n",
        "In the baseline model, the order or the position of the words in the sentence is being ignored, this is because we directly take the average and in this case, the position is not considered at all.\n"
      ],
      "metadata": {
        "id": "u_tuiKKn80Uv"
      }
    },
    {
      "cell_type": "markdown",
      "source": [
        "**Q 4.6**  \n",
        "\n",
        "**Use that function to determine the 20 closest words to that vector. You should see some words that make it clear what the classifier is doing. Do some of the words that you generated make sense?**  \n",
        "\n",
        "From the generated weights, when we tried to get the 20 words closer to those weights, we got words like Watchable, Pleasing, underwhelming, simplistic which are basically words found in the movie review and description. From these words we can how classifier is finding the keywords in the sentences. "
      ],
      "metadata": {
        "id": "7WiPObd89CZE"
      }
    }
  ]
}